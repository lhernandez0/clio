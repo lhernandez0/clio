{
 "cells": [
  {
   "cell_type": "code",
   "execution_count": 1,
   "metadata": {},
   "outputs": [],
   "source": [
    "# Import necessary libraries\n",
    "import logging\n",
    "from elasticsearch import Elasticsearch\n",
    "from elasticsearch.exceptions import NotFoundError\n",
    "\n",
    "# Configure logging\n",
    "logging.basicConfig(level=logging.INFO, format=\"%(asctime)s - %(levelname)s - %(message)s\")\n",
    "logger = logging.getLogger(__name__)\n",
    "\n",
    "# Define Elasticsearch client\n",
    "es = Elasticsearch([\"http://localhost:9200\"])  # Adjust the URL if your Elasticsearch is hosted elsewhere\n",
    "\n",
    "def create_index_with_dense_vector(index_name):\n",
    "    mapping = {\n",
    "        \"mappings\": {\n",
    "            \"properties\": {\n",
    "                \"id\": {\"type\": \"keyword\"},\n",
    "                \"link\": {\"type\": \"text\"},\n",
    "                \"title\": {\"type\": \"text\"},\n",
    "                \"summary\": {\"type\": \"text\"},\n",
    "                \"nlp_processed\": {\"type\": \"boolean\"},\n",
    "                \"entities\": {\"type\": \"nested\", \"properties\": {\"text\": {\"type\": \"text\"}, \"label\": {\"type\": \"keyword\"}}},\n",
    "                \"sentiment\": {\"type\": \"float\"},\n",
    "            }\n",
    "        }\n",
    "    }\n",
    "    \n",
    "    try:\n",
    "        es.indices.create(index=index_name, body=mapping, ignore=400)\n",
    "        logger.info(f\"Created index with dense_vector mapping: {index_name}\")\n",
    "    except Exception as e:\n",
    "        logger.error(f\"Error creating index {index_name}: {e}\")\n",
    "        raise\n",
    "\n",
    "def reindex_data(old_index, new_index):\n",
    "    try:\n",
    "        es.reindex(\n",
    "            body={\n",
    "                \"source\": {\"index\": old_index},\n",
    "                \"dest\": {\"index\": new_index},\n",
    "            },\n",
    "            wait_for_completion=True\n",
    "        )\n",
    "        logger.info(\"Reindexed data from old index to new index.\")\n",
    "    except Exception as e:\n",
    "        logger.error(f\"Error reindexing data: {e}\")\n",
    "        raise\n",
    "\n",
    "def delete_index(index_name):\n",
    "    try:\n",
    "        es.indices.delete(index=index_name, ignore=[400, 404])\n",
    "        logger.info(f\"Deleted index: {index_name}\")\n",
    "    except NotFoundError:\n",
    "        logger.warning(f\"Index {index_name} does not exist.\")\n",
    "    except Exception as e:\n",
    "        logger.error(f\"Error deleting index {index_name}: {e}\")\n",
    "        raise\n",
    "\n",
    "# # Define index names\n",
    "# old_index = \"rss_feeds\"\n",
    "# new_index = \"rss_feeds_v2\"\n",
    "\n",
    "# # Execute the operations\n",
    "# create_index_with_dense_vector(new_index)  # Create a new index with dense_vector mapping\n",
    "# reindex_data(old_index, new_index)  # Reindex data from old to new index\n",
    "# delete_index(old_index)  # Delete the old index after reindexing\n",
    "\n",
    "# # Confirm that the new index was created and has the correct mapping\n",
    "# mapping = es.indices.get_mapping(index=new_index)\n",
    "# print(f\"Mapping for index '{new_index}':\")\n",
    "# print(mapping)\n"
   ]
  },
  {
   "cell_type": "code",
   "execution_count": 2,
   "metadata": {},
   "outputs": [],
   "source": [
    "def rename_index(old_index, new_index):\n",
    "    try:\n",
    "        # Create an alias to point to the new index\n",
    "        es.indices.put_alias(index=new_index, name=old_index)\n",
    "        logger.info(f\"Renamed index '{new_index}' to '{old_index}' using alias.\")\n",
    "    except Exception as e:\n",
    "        logger.error(f\"Error renaming index {new_index} to {old_index}: {e}\")\n",
    "        raise\n",
    "# rename_index(old_index, new_index)  # Rename (alias) new index to old index name\n",
    "\n",
    "# # Confirm that the new index is now used as the original\n",
    "# aliases = es.indices.get_alias(index=old_index)\n",
    "# print(f\"Aliases for index '{old_index}':\")\n",
    "# print(aliases)"
   ]
  },
  {
   "cell_type": "code",
   "execution_count": 3,
   "metadata": {},
   "outputs": [
    {
     "name": "stderr",
     "output_type": "stream",
     "text": [
      "/tmp/ipykernel_386314/2317237416.py:51: DeprecationWarning: Passing transport options in the API method is deprecated. Use 'Elasticsearch.options()' instead.\n",
      "  es.indices.delete(index=index_name, ignore=[400, 404])\n",
      "2024-09-06 22:01:14,871 - INFO - DELETE http://localhost:9200/rss_feeds [status:200 duration:0.071s]\n",
      "2024-09-06 22:01:14,872 - INFO - Deleted index: rss_feeds\n"
     ]
    }
   ],
   "source": [
    "# Define index names\n",
    "old_index = \"rss_feeds\"\n",
    "# new_index = \"rss_feeds_v2\"\n",
    "\n",
    "delete_index(old_index)  # Delete the old index after reindexing\n",
    "# delete_index(new_index)  # Delete the new index after renaming\n",
    "# create_index_with_dense_vector(old_index)"
   ]
  }
 ],
 "metadata": {
  "kernelspec": {
   "display_name": "venv",
   "language": "python",
   "name": "python3"
  },
  "language_info": {
   "codemirror_mode": {
    "name": "ipython",
    "version": 3
   },
   "file_extension": ".py",
   "mimetype": "text/x-python",
   "name": "python",
   "nbconvert_exporter": "python",
   "pygments_lexer": "ipython3",
   "version": "3.11.0"
  }
 },
 "nbformat": 4,
 "nbformat_minor": 2
}
