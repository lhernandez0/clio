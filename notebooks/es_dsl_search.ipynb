{
 "cells": [
  {
   "cell_type": "code",
   "execution_count": 18,
   "metadata": {},
   "outputs": [
    {
     "data": {
      "text/plain": [
       "<Elasticsearch(['http://localhost:9200'])>"
      ]
     },
     "execution_count": 18,
     "metadata": {},
     "output_type": "execute_result"
    }
   ],
   "source": [
    "import elasticsearch_dsl as dsl\n",
    "import spacy\n",
    "from elasticsearch_dsl import Document, Text, Keyword, Date, Boolean, Float, Nested, DenseVector\n",
    "from typing import List, Dict, Any\n",
    "\n",
    "class Article(Document):\n",
    "    title: str = Text()\n",
    "    link: str = Keyword()\n",
    "    published: str = Date()\n",
    "    summary: str = Text()\n",
    "    source: str = Keyword()\n",
    "    embedding: List[float] = DenseVector()\n",
    "    nlp_processed: bool = Boolean()\n",
    "    entities: List[Dict[str, Any]] = Nested()\n",
    "    sentiment: float = Float()\n",
    "\n",
    "    class Index:\n",
    "        name = \"rss_feeds\"\n",
    "\n",
    "    def clean(self):\n",
    "        if not self.embedding:\n",
    "            doc = nlp(self.summary)\n",
    "            self.entities = [{\"text\": ent.text, \"label\": ent.label_} for ent in doc.ents]\n",
    "            self.sentiment = (\n",
    "                doc._.blob.sentiment.polarity\n",
    "            )  # Using spacytextblob for sentiment analysis\n",
    "            self.nlp_processed = True\n",
    "            self.embedding = doc.vector.tolist()\n",
    "\n",
    "dsl.connections.create_connection(hosts=['http://localhost:9200'])\n",
    "\n"
   ]
  },
  {
   "cell_type": "code",
   "execution_count": 39,
   "metadata": {},
   "outputs": [
    {
     "name": "stdout",
     "output_type": "stream",
     "text": [
      "300\n",
      "[\u001b[34m2024-08-31T09:28:56.164+0800\u001b[0m] {\u001b[34m_transport.py:\u001b[0m349} INFO\u001b[0m - POST http://localhost:9200/rss_feeds/_search [status:200 duration:0.005s]\u001b[0m\n",
      "Kadiri: uod sa utak atbp. mga parasito\n",
      "NAHIHIBANG umano si Robert F. Kennedy Jr. sa pagkan­didatong presidente.\n",
      "\n",
      "\n",
      "Jenna Ortega shuts down past Johnny Depp dating rumor\n",
      "Actress Jenna Ortega laughed off the rumor that she dated Johnny Depp.\n",
      "\n",
      "\n",
      "Aubrey, pitong buwan niligawan ni Troy\n",
      "Ikinuwento nina Aubrey Miles at Troy Montero ang una nilang pagkikita. Ayon sa aktres, inakala niya noong una na walang gusto sa kaniya ang aktor.\n",
      "\n",
      "\n",
      "Glaiza De Castro at David Rainey, plano na kayang magkaanak?\n",
      "Matapos na ikasal, plano na kaya agad nina Glaiza De Castro at David Rainey na bumuo ng sarili nilang pamilya?\n",
      "\n",
      "\n",
      "Partido ni Pangulong Marcos pinanumpa pambatong alkalde sa Pasig\n",
      "Tiyak na mapapalaban umano si Mayor Vico Sotto sa darating na 2025 midterm election matapos manumpa na bilang miyembro ng Partido Federal ng Pilipinas ang tinawag nitong “winnable mayoralty bet” nito sa Pasig City.\n",
      "\n",
      "\n"
     ]
    }
   ],
   "source": [
    "# Load the NLP model\n",
    "nlp = spacy.load(\"en_core_web_md\")\n",
    "\n",
    "query = \"Yulo\"\n",
    "vector = nlp(query).vector\n",
    "print(len(vector))\n",
    "\n",
    "s = Article.search(index=\"rss_feeds\")\n",
    "s = s.knn(field=\"embedding\", k=5, num_candidates=10, query_vector=vector.tolist())\n",
    "response = s.execute()\n",
    "for hit in response:\n",
    "    print(hit.title)\n",
    "    print(hit.summary)\n",
    "    print(\"\\n\")"
   ]
  },
  {
   "cell_type": "code",
   "execution_count": 36,
   "metadata": {},
   "outputs": [
    {
     "name": "stdout",
     "output_type": "stream",
     "text": [
      "[\u001b[34m2024-08-31T09:27:18.016+0800\u001b[0m] {\u001b[34m_transport.py:\u001b[0m349} INFO\u001b[0m - POST http://localhost:9200/rss_feeds/_search [status:200 duration:0.016s]\u001b[0m\n",
      "‘Laruang de baterya’: Carlos Yulo amuses with ‘Maybe This Time’ dance trend take\n",
      "\n",
      "\n",
      "‘Fake’: Nueva Ecija governor disowns viral congratulatory post for Carlos Yulo\n",
      "\n",
      "\n",
      "Yulo gets house and lot from Century Properties\n",
      "\n",
      "\n",
      "Castañeda receives recognition in Cebu\n",
      "\n",
      "\n",
      "Francis Libiran and Carlos Yulo 'collaborate' for fashion design inspiration\n",
      "\n",
      "\n",
      "Carlos Yulo gets Land Cruiser Prado reward from Toyota\n",
      "\n",
      "\n",
      "Chery Auto gifts Carlos Yulo a Tiggo 7, lifetime free oil change\n",
      "\n",
      "\n",
      "Carlos Yulo also had to do mental gymnastics --psychologist Anna Tuazon\n",
      "\n",
      "\n",
      "The shortness of Carlos Yulo\n",
      "\n",
      "\n",
      "Young Pinay gymnast in UAE inspired by Carlos Yulo's double gold win\n",
      "\n",
      "\n"
     ]
    }
   ],
   "source": [
    "query = \"Carlos Yulo\"\n",
    "\n",
    "s = Article.search(index=\"rss_feeds\")\n",
    "s = s.query(dsl.query.Match(summary=query))\n",
    "response = s.execute()\n",
    "for hit in response:\n",
    "    print(hit.title)\n",
    "    # print(hit.summary)\n",
    "    print(\"\\n\")"
   ]
  }
 ],
 "metadata": {
  "kernelspec": {
   "display_name": "venv",
   "language": "python",
   "name": "python3"
  },
  "language_info": {
   "codemirror_mode": {
    "name": "ipython",
    "version": 3
   },
   "file_extension": ".py",
   "mimetype": "text/x-python",
   "name": "python",
   "nbconvert_exporter": "python",
   "pygments_lexer": "ipython3",
   "version": "3.11.0"
  }
 },
 "nbformat": 4,
 "nbformat_minor": 2
}
